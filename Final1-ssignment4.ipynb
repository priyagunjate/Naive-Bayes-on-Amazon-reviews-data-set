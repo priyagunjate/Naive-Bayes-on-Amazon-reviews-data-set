{
 "cells": [
  {
   "cell_type": "markdown",
   "metadata": {},
   "source": [
    "## Assignment 4:Apply Naive Bayes on Amazon reviews data-set [M]\n"
   ]
  },
  {
   "cell_type": "markdown",
   "metadata": {},
   "source": [
    "Given Dataset consists of reviews of fine foods from amazon. Reviews describe (1)product and user information, (2)ratings, and (3) a plain text review.Naive Bayes works on Bayes theorem of probability to predict the class of unknown data set.Here, Naive Bayes algorithm is applied on amazon reviews datasets to classify postive and negative reviews.\n",
    "\n",
    "Procedure to execute the above task is as follows:\n",
    "\n",
    "         \n",
    "\n",
    "## Objective:\n",
    "\n",
    "* To classify given reviews (positive (Rating of 4 or 5) & negative (rating of 1 or 2)) using Naives Bayes  algorithm.\n",
    "\n",
    "\n",
    "\n",
    "\n",
    "\n"
   ]
  },
  {
   "cell_type": "markdown",
   "metadata": {},
   "source": [
    "* Step1: Data Pre-processing is applied on given amazon reviews data-set.And Take sample of data from dataset because of computational limitations\n",
    "* Step2: Time based splitting on train and test datasets.\n",
    "* Step3: Apply  Feature generation techniques(Bow,tfidf,avg w2v,tfidfw2v) \n",
    "* Step4: Apply Naive Bayes algorithm using each technique\n",
    "* Step5: Find alpha using cross-validation\n",
    "* Step6: Feature Importance for postive and Negative reviews\n",
    "* Step7: Find the following metric mesures: \n",
    "         * accuracy\n",
    "         * Precision\n",
    "         * Recall\n",
    "         * F1- Score\n",
    "         * Confusion Matrix(TPR,FPR,NPR)"
   ]
  },
  {
   "cell_type": "code",
   "execution_count": 1,
   "metadata": {
    "scrolled": true
   },
   "outputs": [
    {
     "name": "stderr",
     "output_type": "stream",
     "text": [
      "/usr/local/lib/python3.6/site-packages/sklearn/cross_validation.py:41: DeprecationWarning: This module was deprecated in version 0.18 in favor of the model_selection module into which all the refactored classes and functions are moved. Also note that the interface of the new CV iterators are different from that of this module. This module will be removed in 0.20.\n",
      "  \"This module will be removed in 0.20.\", DeprecationWarning)\n"
     ]
    }
   ],
   "source": [
    "# All necessary module\n",
    "%matplotlib inline\n",
    "import warnings\n",
    "warnings.filterwarnings(\"ignore\")\n",
    "#import  sys\n",
    "import re\n",
    "import math\n",
    "import sqlite3\n",
    "import pandas as pd\n",
    "import numpy as np\n",
    "import pickle\n",
    "from sklearn.model_selection import train_test_split\n",
    "from sklearn import preprocessing\n",
    "from sklearn.model_selection import TimeSeriesSplit\n",
    "from sklearn.model_selection import cross_val_score\n",
    "import pytablewriter\n",
    "\n",
    "# modules for text processing\n",
    "import nltk\n",
    "import string\n",
    "from nltk.corpus import stopwords\n",
    "from nltk.stem import PorterStemmer\n",
    "from nltk.stem.wordnet import WordNetLemmatizer\n",
    "import matplotlib.pyplot as plt\n",
    "import seaborn as sns\n",
    "from sklearn.feature_extraction.text import TfidfTransformer\n",
    "from sklearn.feature_extraction.text import TfidfVectorizer\n",
    "\n",
    "from sklearn.feature_extraction.text import CountVectorizer\n",
    "from sklearn.metrics import confusion_matrix\n",
    "from sklearn import metrics\n",
    "from sklearn.metrics import f1_score\n",
    "from sklearn.metrics import recall_score\n",
    "from sklearn.metrics import precision_score\n",
    "\n",
    "#import scikitplot.metrics as skplt\n",
    "from sklearn.metrics import classification_report,confusion_matrix,accuracy_score\n",
    "\n",
    "from sklearn.metrics import roc_curve, auc\n",
    "from nltk.stem.porter import PorterStemmer\n",
    "\n",
    "\n",
    "\n",
    "# train-split data,accuracy-score,cross-validation modules\n",
    "from sklearn.cross_validation import train_test_split\n",
    "from sklearn.neighbors import KNeighborsClassifier\n",
    "from sklearn.metrics import accuracy_score\n",
    "\n",
    "from collections import Counter\n",
    "from sklearn.metrics import accuracy_score\n",
    "from sklearn import cross_validation\n",
    "from sklearn.preprocessing import StandardScaler"
   ]
  },
  {
   "cell_type": "code",
   "execution_count": 2,
   "metadata": {},
   "outputs": [],
   "source": [
    "import zipfile\n",
    "archive = zipfile.ZipFile('/floyd/input/pri/Reviews.zip', 'r')\n",
    "csvfile = archive.open('Reviews.csv')"
   ]
  },
  {
   "cell_type": "code",
   "execution_count": 3,
   "metadata": {},
   "outputs": [
    {
     "name": "stdout",
     "output_type": "stream",
     "text": [
      "   Id   ProductId          UserId                      ProfileName  \\\n",
      "0   1  B001E4KFG0  A3SGXH7AUHU8GW                       delmartian   \n",
      "1   2  B00813GRG4  A1D87F6ZCVE5NK                           dll pa   \n",
      "2   3  B000LQOCH0   ABXLMWJIXXAIN  Natalia Corres \"Natalia Corres\"   \n",
      "3   4  B000UA0QIQ  A395BORC6FGVXV                             Karl   \n",
      "4   5  B006K2ZZ7K  A1UQRSCLF8GW1T    Michael D. Bigham \"M. Wassir\"   \n",
      "\n",
      "   HelpfulnessNumerator  HelpfulnessDenominator  Score        Time  \\\n",
      "0                     1                       1      5  1303862400   \n",
      "1                     0                       0      1  1346976000   \n",
      "2                     1                       1      4  1219017600   \n",
      "3                     3                       3      2  1307923200   \n",
      "4                     0                       0      5  1350777600   \n",
      "\n",
      "                 Summary                                               Text  \n",
      "0  Good Quality Dog Food  I have bought several of the Vitality canned d...  \n",
      "1      Not as Advertised  Product arrived labeled as Jumbo Salted Peanut...  \n",
      "2  \"Delight\" says it all  This is a confection that has been around a fe...  \n",
      "3         Cough Medicine  If you are looking for the secret ingredient i...  \n",
      "4            Great taffy  Great taffy at a great price.  There was a wid...  \n"
     ]
    }
   ],
   "source": [
    "# Reading CSV file and printing first five rows \n",
    "amz = pd.read_csv(csvfile ) # reviews.csv is  dataset file\n",
    "print(amz.head())"
   ]
  },
  {
   "cell_type": "code",
   "execution_count": 4,
   "metadata": {},
   "outputs": [
    {
     "name": "stdout",
     "output_type": "stream",
     "text": [
      "(568454, 10)\n",
      "Index(['Id', 'ProductId', 'UserId', 'ProfileName', 'HelpfulnessNumerator',\n",
      "       'HelpfulnessDenominator', 'Score', 'Time', 'Summary', 'Text'],\n",
      "      dtype='object')\n"
     ]
    }
   ],
   "source": [
    "# dimensions of dataset and columns name\n",
    "print(amz.shape) \n",
    "#print(amz1.shape)\n",
    "print(amz.columns)"
   ]
  },
  {
   "cell_type": "markdown",
   "metadata": {},
   "source": [
    "The amazon reviews datafile contains 568454 rows of entry and 10 columns.For given objective, processing of data is necessary.\"Score\" and \"text\" columns is processed for required result."
   ]
  },
  {
   "cell_type": "markdown",
   "metadata": {},
   "source": [
    "##### Given reviews with Score>3 a positive rating, and reviews with a score<3 a negative rating. If score is equal to 3,it is considered as neutral score."
   ]
  },
  {
   "cell_type": "code",
   "execution_count": 5,
   "metadata": {},
   "outputs": [],
   "source": [
    "# Processing\n",
    "#Give reviews with Score>3 a positive rating, and reviews with a score<3 a negative rating.\n",
    "\n",
    "def score_part(x):\n",
    "    if x < 3:\n",
    "        return 'negative'\n",
    "    return 'positive'\n",
    "\n",
    "actualScore = amz['Score']\n",
    "#print(actualScore)\n",
    "New_score = actualScore.map(score_part)\n",
    "#print(New_score)\n",
    "amz['Score']=New_score\n",
    "\n",
    "# If score is equal to 3,it is considered as neutral score.\n",
    "\n",
    "    \n",
    "\n",
    "\n",
    "\n",
    "\n"
   ]
  },
  {
   "cell_type": "code",
   "execution_count": 6,
   "metadata": {},
   "outputs": [
    {
     "name": "stdout",
     "output_type": "stream",
     "text": [
      "(568454, 10)\n"
     ]
    },
    {
     "data": {
      "text/html": [
       "<div>\n",
       "<style scoped>\n",
       "    .dataframe tbody tr th:only-of-type {\n",
       "        vertical-align: middle;\n",
       "    }\n",
       "\n",
       "    .dataframe tbody tr th {\n",
       "        vertical-align: top;\n",
       "    }\n",
       "\n",
       "    .dataframe thead th {\n",
       "        text-align: right;\n",
       "    }\n",
       "</style>\n",
       "<table border=\"1\" class=\"dataframe\">\n",
       "  <thead>\n",
       "    <tr style=\"text-align: right;\">\n",
       "      <th></th>\n",
       "      <th>Id</th>\n",
       "      <th>ProductId</th>\n",
       "      <th>UserId</th>\n",
       "      <th>ProfileName</th>\n",
       "      <th>HelpfulnessNumerator</th>\n",
       "      <th>HelpfulnessDenominator</th>\n",
       "      <th>Score</th>\n",
       "      <th>Time</th>\n",
       "      <th>Summary</th>\n",
       "      <th>Text</th>\n",
       "    </tr>\n",
       "  </thead>\n",
       "  <tbody>\n",
       "    <tr>\n",
       "      <th>0</th>\n",
       "      <td>1</td>\n",
       "      <td>B001E4KFG0</td>\n",
       "      <td>A3SGXH7AUHU8GW</td>\n",
       "      <td>delmartian</td>\n",
       "      <td>1</td>\n",
       "      <td>1</td>\n",
       "      <td>positive</td>\n",
       "      <td>1303862400</td>\n",
       "      <td>Good Quality Dog Food</td>\n",
       "      <td>I have bought several of the Vitality canned d...</td>\n",
       "    </tr>\n",
       "    <tr>\n",
       "      <th>1</th>\n",
       "      <td>2</td>\n",
       "      <td>B00813GRG4</td>\n",
       "      <td>A1D87F6ZCVE5NK</td>\n",
       "      <td>dll pa</td>\n",
       "      <td>0</td>\n",
       "      <td>0</td>\n",
       "      <td>negative</td>\n",
       "      <td>1346976000</td>\n",
       "      <td>Not as Advertised</td>\n",
       "      <td>Product arrived labeled as Jumbo Salted Peanut...</td>\n",
       "    </tr>\n",
       "    <tr>\n",
       "      <th>2</th>\n",
       "      <td>3</td>\n",
       "      <td>B000LQOCH0</td>\n",
       "      <td>ABXLMWJIXXAIN</td>\n",
       "      <td>Natalia Corres \"Natalia Corres\"</td>\n",
       "      <td>1</td>\n",
       "      <td>1</td>\n",
       "      <td>positive</td>\n",
       "      <td>1219017600</td>\n",
       "      <td>\"Delight\" says it all</td>\n",
       "      <td>This is a confection that has been around a fe...</td>\n",
       "    </tr>\n",
       "    <tr>\n",
       "      <th>3</th>\n",
       "      <td>4</td>\n",
       "      <td>B000UA0QIQ</td>\n",
       "      <td>A395BORC6FGVXV</td>\n",
       "      <td>Karl</td>\n",
       "      <td>3</td>\n",
       "      <td>3</td>\n",
       "      <td>negative</td>\n",
       "      <td>1307923200</td>\n",
       "      <td>Cough Medicine</td>\n",
       "      <td>If you are looking for the secret ingredient i...</td>\n",
       "    </tr>\n",
       "    <tr>\n",
       "      <th>4</th>\n",
       "      <td>5</td>\n",
       "      <td>B006K2ZZ7K</td>\n",
       "      <td>A1UQRSCLF8GW1T</td>\n",
       "      <td>Michael D. Bigham \"M. Wassir\"</td>\n",
       "      <td>0</td>\n",
       "      <td>0</td>\n",
       "      <td>positive</td>\n",
       "      <td>1350777600</td>\n",
       "      <td>Great taffy</td>\n",
       "      <td>Great taffy at a great price.  There was a wid...</td>\n",
       "    </tr>\n",
       "  </tbody>\n",
       "</table>\n",
       "</div>"
      ],
      "text/plain": [
       "   Id   ProductId          UserId                      ProfileName  \\\n",
       "0   1  B001E4KFG0  A3SGXH7AUHU8GW                       delmartian   \n",
       "1   2  B00813GRG4  A1D87F6ZCVE5NK                           dll pa   \n",
       "2   3  B000LQOCH0   ABXLMWJIXXAIN  Natalia Corres \"Natalia Corres\"   \n",
       "3   4  B000UA0QIQ  A395BORC6FGVXV                             Karl   \n",
       "4   5  B006K2ZZ7K  A1UQRSCLF8GW1T    Michael D. Bigham \"M. Wassir\"   \n",
       "\n",
       "   HelpfulnessNumerator  HelpfulnessDenominator     Score        Time  \\\n",
       "0                     1                       1  positive  1303862400   \n",
       "1                     0                       0  negative  1346976000   \n",
       "2                     1                       1  positive  1219017600   \n",
       "3                     3                       3  negative  1307923200   \n",
       "4                     0                       0  positive  1350777600   \n",
       "\n",
       "                 Summary                                               Text  \n",
       "0  Good Quality Dog Food  I have bought several of the Vitality canned d...  \n",
       "1      Not as Advertised  Product arrived labeled as Jumbo Salted Peanut...  \n",
       "2  \"Delight\" says it all  This is a confection that has been around a fe...  \n",
       "3         Cough Medicine  If you are looking for the secret ingredient i...  \n",
       "4            Great taffy  Great taffy at a great price.  There was a wid...  "
      ]
     },
     "execution_count": 6,
     "metadata": {},
     "output_type": "execute_result"
    }
   ],
   "source": [
    "print(amz.shape)\n",
    "amz.head(5)\n"
   ]
  },
  {
   "cell_type": "markdown",
   "metadata": {},
   "source": [
    "#### Data Pre-processing on raw data:\n",
    "\n",
    "Every datasets contains some unwanted data.Raw data is preprocessed by removing duplication.\n"
   ]
  },
  {
   "cell_type": "code",
   "execution_count": 7,
   "metadata": {},
   "outputs": [
    {
     "name": "stdout",
     "output_type": "stream",
     "text": [
      "            Id   ProductId          UserId  \\\n",
      "171222  171223  7310172001   AJD41FBJD9010   \n",
      "171153  171154  7310172001   AJD41FBJD9010   \n",
      "171151  171152  7310172001   AJD41FBJD9010   \n",
      "217443  217444  7310172101  A22FICU3LCG2J1   \n",
      "217444  217445  7310172101  A1LQV0PSM04DWI   \n",
      "\n",
      "                                         ProfileName  HelpfulnessNumerator  \\\n",
      "171222  N. Ferguson \"Two, Daisy, Hannah, and Kitten\"                     1   \n",
      "171153  N. Ferguson \"Two, Daisy, Hannah, and Kitten\"                     0   \n",
      "171151  N. Ferguson \"Two, Daisy, Hannah, and Kitten\"                     0   \n",
      "217443                                      C. Knapp                     1   \n",
      "217444                                 B. Feuerstein                     1   \n",
      "\n",
      "        HelpfulnessDenominator     Score        Time  \\\n",
      "171222                       1  positive  1233360000   \n",
      "171153                       0  positive  1233360000   \n",
      "171151                       0  positive  1233360000   \n",
      "217443                       1  positive  1275523200   \n",
      "217444                       1  positive  1274313600   \n",
      "\n",
      "                                                  Summary  \\\n",
      "171222  best dog treat-- great for training---  all do...   \n",
      "171153  best dog treat-- great for training---  all do...   \n",
      "171151  dogs LOVE it--  best treat for rewards and tra...   \n",
      "217443                                Can't resist this !   \n",
      "217444                   Freeze dried liver as dog treats   \n",
      "\n",
      "                                                     Text  \n",
      "171222  Freeze dried liver has a hypnotic effect on do...  \n",
      "171153  Freeze dried liver has a hypnotic effect on do...  \n",
      "171151  Freeze dried liver has a hypnotic effect on do...  \n",
      "217443  My dog can't resist these treats - I can get h...  \n",
      "217444  My little pupster loves these things. She is n...  \n",
      "(393931, 10)\n"
     ]
    },
    {
     "data": {
      "text/plain": [
       "positive    336824\n",
       "negative     57107\n",
       "Name: Score, dtype: int64"
      ]
     },
     "execution_count": 7,
     "metadata": {},
     "output_type": "execute_result"
    }
   ],
   "source": [
    "#Processing of ProductId\n",
    "#Sorting data according to ProductId in ascending order\n",
    "sorted_data=amz.sort_values('ProductId', axis=0, ascending=True, inplace=False, kind='quicksort', na_position='last')\n",
    "#sorted_data.head() # printing sorted data\n",
    "# To check the duplications in raw data\n",
    "dupli=sorted_data[sorted_data.duplicated([\"UserId\",\"ProfileName\",\"Time\",\"Text\"])]\n",
    "print(dupli.head(5))\n",
    "# Remove Deduplication of entries\n",
    "final=sorted_data.drop_duplicates(subset={\"UserId\",\"ProfileName\",\"Time\",\"Text\"}, keep='first', inplace=False)\n",
    "final.shape\n",
    "#Checking to see how much % of data still remains\n",
    "(final['Id'].size*1.0)/(amz['Id'].size*1.0)*100\n",
    "final=final[final.HelpfulnessNumerator<=final.HelpfulnessDenominator]\n",
    "#Before starting the next phase of preprocessing lets see the number of entries left\n",
    "print(final.shape)\n",
    "\n",
    "#How many positive and negative reviews are present in our dataset?\n",
    "final['Score'].value_counts()"
   ]
  },
  {
   "cell_type": "code",
   "execution_count": 8,
   "metadata": {},
   "outputs": [
    {
     "name": "stdout",
     "output_type": "stream",
     "text": [
      "List of total counts Postive score and Negative score ==> [336824, 57107]\n"
     ]
    },
    {
     "data": {
      "text/plain": [
       "Text(0.5,1,'Total counts of Postive score and Negative score ')"
      ]
     },
     "execution_count": 8,
     "metadata": {},
     "output_type": "execute_result"
    },
    {
     "data": {
      "image/png": "[encoded data removed]",
      "text/plain": [
       "<Figure size 432x288 with 1 Axes>"
      ]
     },
     "metadata": {},
     "output_type": "display_data"
    }
   ],
   "source": [
    "a=final['Score'].value_counts().tolist()\n",
    "print('List of total counts Postive score and Negative score ==>',a)\n",
    "final['Score'].value_counts().plot(kind='bar')\n",
    "plt.title('Total counts of Postive score and Negative score ')\n"
   ]
  },
  {
   "cell_type": "markdown",
   "metadata": {},
   "source": [
    "#### observations\n",
    "* The positive reviews is greater than negative reviews.It makes data imbalanced.\n",
    "* From the bar plot ,it is seen that sampled datasets of review is imbalnced.\n"
   ]
  },
  {
   "cell_type": "markdown",
   "metadata": {},
   "source": [
    "# Text Preprocessing:"
   ]
  },
  {
   "cell_type": "code",
   "execution_count": 9,
   "metadata": {},
   "outputs": [
    {
     "name": "stdout",
     "output_type": "stream",
     "text": [
      "[nltk_data] Downloading package stopwords to /root/nltk_data...\n",
      "[nltk_data]   Unzipping corpora/stopwords.zip.\n"
     ]
    },
    {
     "data": {
      "text/plain": [
       "True"
      ]
     },
     "execution_count": 9,
     "metadata": {},
     "output_type": "execute_result"
    }
   ],
   "source": [
    "import nltk\n",
    "nltk.download('stopwords')"
   ]
  },
  {
   "cell_type": "code",
   "execution_count": 10,
   "metadata": {
    "scrolled": true
   },
   "outputs": [],
   "source": [
    " \n",
    "stop = set(stopwords.words('english')) #set of stopwords\n",
    "sno = nltk.stem.SnowballStemmer('english') #initialising the snowball stemmer\n",
    "\n",
    "def cleanhtml(sentence): #function to clean the word of any html-tags\n",
    "    cleanr = re.compile('<.*?>$< /><')\n",
    "    #cleanr = re.compile('<.*?>')\n",
    "    cleantext = re.sub(cleanr, ' ', sentence)\n",
    "    return cleantext\n",
    "def cleanpunc(sentence): #function to clean the word of any punctuation or special characters\n",
    "    cleaned = re.sub(r'[?|!|\\'|\"|#]',r'',sentence)\n",
    "    cleaned = re.sub(r'[.|,|)|(|\\|/]',r' ',cleaned)\n",
    "    return  cleaned\n"
   ]
  },
  {
   "cell_type": "markdown",
   "metadata": {},
   "source": [
    "cleaning html tags like\" <.*?>\" and punctuations like \" r'[?|!|\\'|\"|#]',r''\" from senetences"
   ]
  },
  {
   "cell_type": "code",
   "execution_count": 11,
   "metadata": {},
   "outputs": [],
   "source": [
    "#final = final.sample(frac=0.004,random_state=0)\n",
    "#print(final.shape)"
   ]
  },
  {
   "cell_type": "code",
   "execution_count": 14,
   "metadata": {},
   "outputs": [
    {
     "name": "stdout",
     "output_type": "stream",
     "text": [
      "all_positive_words = 12908031\n",
      "all_negative_words = 2338974\n",
      "\n",
      "Most Common Positive Words :  [(b'like', 159742), (b'tast', 148220), (b'flavor', 124991), (b'good', 124949), (b'use', 114020), (b'love', 112681), (b'product', 112391), (b'great', 107709), (b'one', 106238), (b'tri', 95717), (b'tea', 91571), (b'coffe', 88533), (b'make', 81463), (b'get', 80711), (b'food', 70743), (b'would', 66136), (b'amazon', 62151), (b'time', 60604), (b'buy', 60076), (b'realli', 59528)]\n",
      "\n",
      "Most Common Negative Words :  [(b'tast', 34433), (b'like', 32256), (b'product', 29435), (b'one', 20379), (b'flavor', 19479), (b'would', 17893), (b'tri', 17664), (b'use', 15260), (b'good', 14940), (b'coffe', 14602), (b'get', 13747), (b'buy', 13673), (b'order', 12829), (b'food', 12692), (b'dont', 11677), (b'tea', 11606), (b'amazon', 11230), (b'even', 10975), (b'box', 10779), (b'make', 9810)]\n"
     ]
    }
   ],
   "source": [
    "#Code for implementing step-by-step the checks mentioned in the pre-processing phase.\n",
    "\n",
    "'''Pre processing of text data:It is cleaning and flitering text'''\n",
    "i=0\n",
    "str1=' '\n",
    "global final_string\n",
    "final_string=[]\n",
    "all_positive_words=[] \n",
    "all_negative_words=[] \n",
    "s=''\n",
    "for sent in final['Text'].values:\n",
    "    filtered_sentence=[]\n",
    "    #print(sent);\n",
    "    sent=cleanhtml(sent) # remove HTMl tags\n",
    "    for w in sent.split():\n",
    "        for cleaned_words in cleanpunc(w).split():\n",
    "            if((cleaned_words.isalpha()) & (len(cleaned_words)>2)):    \n",
    "                if(cleaned_words.lower() not in stop):\n",
    "                    s=(sno.stem(cleaned_words.lower())).encode('utf8')\n",
    "                    filtered_sentence.append(s)\n",
    "                    if (final['Score'].values)[i] == 'positive': \n",
    "                        all_positive_words.append(s) #list of all words used to describe positive reviews\n",
    "                    if(final['Score'].values)[i] == 'negative':\n",
    "                        all_negative_words.append(s) #list of all words used to describe negative reviews reviews\n",
    "                else:\n",
    "                    continue\n",
    "            else:\n",
    "                continue \n",
    "    #print(filtered_sentence)\n",
    "    str1 = b\" \".join(filtered_sentence) #final string of cleaned words\n",
    "    #print(\"***********************************************************************\")\n",
    "\n",
    "    final_string.append(str1)\n",
    "    i+=1\n",
    "print('all_positive_words =',len(all_positive_words))\n",
    "print('all_negative_words =',len(all_negative_words))\n",
    "\n",
    "# Finding most frequently occuring Positive and Negative words \n",
    "\n",
    "freq_positive=nltk.FreqDist(all_positive_words)\n",
    "\n",
    "freq_negative=nltk.FreqDist(all_negative_words)\n",
    "\n",
    "print(\"\\nMost Common Positive Words : \",freq_positive.most_common(20))\n",
    "\n",
    "print(\"\\nMost Common Negative Words : \",freq_negative.most_common(20))\n",
    "\n",
    "\n"
   ]
  },
  {
   "cell_type": "markdown",
   "metadata": {},
   "source": [
    "#### Observation\n",
    "\n",
    "* all_positive_words =12908031and all_negative_words= 2338974.\n",
    "* If any reviews contains any words among in all_positive_words ,then reviews is considered as postive reviews.\n",
    "* Also,If any reviews contains any words among in all_negative_words ,then reviews is considered as negative  reviews.\n",
    "* NLTK in python has a function FreqDist which gives you the frequency of words within a text.Using it, freq_positive and freq_negative are calculated.\n",
    "* Most common postive words and negative owrds are shown above."
   ]
  },
  {
   "cell_type": "markdown",
   "metadata": {},
   "source": [
    "##### Dumping and loading  Pre processing of text data in pickle file "
   ]
  },
  {
   "cell_type": "code",
   "execution_count": 15,
   "metadata": {},
   "outputs": [],
   "source": [
    "pickle_path_final_string='final_string.pkl'\n",
    "final_string_file=open(pickle_path_final_string,'wb')\n",
    "pickle.dump(final_string,final_string_file)\n",
    "final_string_file.close()"
   ]
  },
  {
   "cell_type": "code",
   "execution_count": 11,
   "metadata": {},
   "outputs": [],
   "source": [
    "pickle_path_final_string='final_string.pkl'\n",
    "final_string_unpkl=open(pickle_path_final_string,'rb')\n",
    "final_string=pickle.load(final_string_unpkl)"
   ]
  },
  {
   "cell_type": "code",
   "execution_count": 12,
   "metadata": {},
   "outputs": [
    {
     "name": "stdout",
     "output_type": "stream",
     "text": [
      "\n",
      "Pre_Process_Text_Data  X_Text= (393931,)\n",
      "\n",
      "Pre_Process_Score_Data Y_Score= (393931,)\n"
     ]
    }
   ],
   "source": [
    "\n",
    "final['CleanedText']=final_string\n",
    "#adding a column of CleanedText which displays the data after pre-processing of the review \n",
    "Pre_Process_Data = final[['CleanedText','Score','Time']] \n",
    "\n",
    "X_Text=Pre_Process_Data ['CleanedText']\n",
    "\n",
    "Y_Score =Pre_Process_Data ['Score'] # positive or negative score\n",
    "print('\\nPre_Process_Text_Data  X_Text=',X_Text.shape)\n",
    "print('\\nPre_Process_Score_Data Y_Score=',Y_Score.shape)\n"
   ]
  },
  {
   "cell_type": "code",
   "execution_count": 13,
   "metadata": {},
   "outputs": [
    {
     "name": "stdout",
     "output_type": "stream",
     "text": [
      "positive    101047\n",
      "Name: Score, dtype: int64\n",
      "negative    57107\n",
      "Name: Score, dtype: int64\n"
     ]
    }
   ],
   "source": [
    "# postive and negtive reviews from original datasets of amazon\n",
    "pos_final = Pre_Process_Data[Pre_Process_Data.Score == 'positive']# postive reviews\n",
    "pos_final = pos_final.sample(frac=0.3)\n",
    "print(pos_final.Score.value_counts())\n",
    "\n",
    "neg_final = Pre_Process_Data[Pre_Process_Data.Score == 'negative'] # negative reviews\n",
    "print(neg_final.Score.value_counts())"
   ]
  },
  {
   "cell_type": "code",
   "execution_count": 14,
   "metadata": {},
   "outputs": [
    {
     "name": "stdout",
     "output_type": "stream",
     "text": [
      "158154\n",
      "<class 'pandas.core.frame.DataFrame'>\n"
     ]
    }
   ],
   "source": [
    "final_pos_neg = pd.concat([pos_final,neg_final],axis=0)\n",
    "\n",
    "print(len(final_pos_neg))\n",
    "print(type(final_pos_neg))\n",
    "#print('final_pos_neg=',final_pos_neg['Score'])"
   ]
  },
  {
   "cell_type": "code",
   "execution_count": 15,
   "metadata": {},
   "outputs": [
    {
     "name": "stdout",
     "output_type": "stream",
     "text": [
      "Index(['CleanedText', 'Score', 'Time'], dtype='object')\n"
     ]
    }
   ],
   "source": [
    "print(final_pos_neg.columns)"
   ]
  },
  {
   "cell_type": "markdown",
   "metadata": {},
   "source": [
    "### Splitting Training and Testing dataset based on Timeting dataset"
   ]
  },
  {
   "cell_type": "code",
   "execution_count": 16,
   "metadata": {},
   "outputs": [
    {
     "name": "stdout",
     "output_type": "stream",
     "text": [
      "(100000, 1)\n",
      "(100000, 1)\n",
      "70000\n",
      "X_train_data  (70000, 1)\n",
      "X_test_data  (30000, 1)\n",
      "Y_train_data  (70000, 1)\n",
      "Y_test_data  (30000, 1)\n"
     ]
    }
   ],
   "source": [
    "# splitting training and testing dataset\n",
    "\n",
    "X1 = final_pos_neg[['CleanedText','Time']].sort_values('Time',axis=0).drop('Time',axis=1)\n",
    "#100k data sample\n",
    "X=X1[:100000]\n",
    "print(X.shape)\n",
    "#100k data sample\n",
    "Y1 = final_pos_neg[['Score','Time']].sort_values('Time',axis=0).drop('Time',axis=1)\n",
    "### Splitting Training and Testing dataset based on Time\n",
    "Y=Y1[:100000]\n",
    "print(Y.shape)\n",
    "## 70 % of data\n",
    "tt =math.ceil(len(X)*.7)\n",
    "print(tt)\n",
    "\n",
    "X_train_data =  X[:tt] \n",
    "X_train_data  = X_train_data\n",
    "print('X_train_data ',X_train_data.shape)\n",
    "X_test_data = X[tt:]\n",
    "X_test_data = X_test_data\n",
    "print('X_test_data ',X_test_data.shape )\n",
    "Y_train_data = Y[:tt]\n",
    "Y_train_data  = Y_train_data\n",
    "print('Y_train_data ',Y_train_data .shape)\n",
    "Y_test_data = Y[tt:]\n",
    "Y_test_data= Y_test_data\n",
    "print('Y_test_data ',Y_test_data .shape)\n",
    "\n"
   ]
  },
  {
   "cell_type": "code",
   "execution_count": 17,
   "metadata": {},
   "outputs": [],
   "source": [
    "Train_data=Y_train_data.values.ravel()\n",
    "Y_test_data= Y_test_data.values.ravel()\n"
   ]
  },
  {
   "cell_type": "markdown",
   "metadata": {},
   "source": [
    "#  Optimal aplha for Naive Bayes"
   ]
  },
  {
   "cell_type": "code",
   "execution_count": 32,
   "metadata": {},
   "outputs": [],
   "source": [
    " # Time seris splitting Cross-Validation\n",
    "tscv = TimeSeriesSplit(n_splits=10)"
   ]
  },
  {
   "cell_type": "code",
   "execution_count": 33,
   "metadata": {},
   "outputs": [],
   "source": [
    "#  alpha_nb is function to calculate the alpha value for naive bayes\n",
    "from sklearn.naive_bayes import MultinomialNB\n",
    "def alpha_nb(X_train,y_train, My_List):\n",
    "   \n",
    "    alpha_value = list(filter(lambda x: x % 2 != 0, My_List))\n",
    "\n",
    "    # empty list that will hold cv scores\n",
    "    cv_scores = []\n",
    "    \n",
    "    # perform Time seris splitting  cross validation\n",
    "    for i in alpha_value:\n",
    "        nb_classifier = MultinomialNB(alpha= i, fit_prior=True)\n",
    "        scores = cross_val_score(nb_classifier, X_train, y_train, cv=tscv, scoring='accuracy',n_jobs=-1)\n",
    "        cv_scores.append(scores.mean())\n",
    "\n",
    "    # changing to misclassification error\n",
    "    MSE = [1 - x for x in cv_scores]\n",
    "\n",
    "    # determining best alpha value\n",
    "    global best_alpha_value\n",
    "    best_alpha_value = alpha_value[MSE.index(min(MSE))]\n",
    "    print('\\nThe best value of alpha is %d.' % best_alpha_value)\n",
    "  \n",
    "      # plot misclassification error vs alpha \n",
    "    fig = plt.figure( facecolor='y', edgecolor='k',figsize=(15,8))\n",
    "  \n",
    "    plt.semilogx(alpha_value, MSE,'m*',linestyle='dashed', label='depthsize')\n",
    "    plt.legend(loc='lower left')\n",
    "    plt.grid()\n",
    "    for xy in zip(alpha_value, np.round(MSE,3)):\n",
    "        plt.annotate('(%s, %s)' % xy, xy=xy, textcoords='data')\n",
    "    plt.title('Error_Rate vs. alpha_Value')\n",
    "    plt.xlabel('Number of alpha')\n",
    "    plt.ylabel('Misclassification Error')\n",
    "    plt.show()\n",
    "\n",
    "    print(\"the misclassification error for each alpha value is : \", np.round(MSE,3))\n",
    "    \n",
    "    \n",
    "    \n",
    "    \n",
    "    return best_alpha_value"
   ]
  },
  {
   "cell_type": "markdown",
   "metadata": {},
   "source": [
    "##### Pandas dataframe to markdown Table format"
   ]
  },
  {
   "cell_type": "code",
   "execution_count": 34,
   "metadata": {},
   "outputs": [],
   "source": [
    "# result_display  is function to convert dataframe \n",
    "# into table format in Markdown\n",
    "def result_display(df):\n",
    "    writer = pytablewriter.MarkdownTableWriter()\n",
    "    #writer.table_name = name\n",
    "    writer.header_list = list(df.columns.values)\n",
    "    writer.value_matrix = df.values.tolist()\n",
    "    writer.write_table()\n",
    "\n",
    "\n",
    "    "
   ]
  },
  {
   "cell_type": "markdown",
   "metadata": {},
   "source": [
    "# Methods to convert text into vector"
   ]
  },
  {
   "cell_type": "markdown",
   "metadata": {},
   "source": [
    "Methods:\n",
    "* Bag of Words\n",
    "* Avg word2vec\n",
    "* Tf-idf\n",
    "* tf-idf weighted Word2Vec\n",
    "\n",
    "Using above four method is used to convert text to numeric vector."
   ]
  },
  {
   "cell_type": "markdown",
   "metadata": {},
   "source": [
    "# 1. Bag of Words (BoW)"
   ]
  },
  {
   "cell_type": "markdown",
   "metadata": {},
   "source": [
    "##### BOW for Training Data"
   ]
  },
  {
   "cell_type": "code",
   "execution_count": 35,
   "metadata": {},
   "outputs": [
    {
     "name": "stdout",
     "output_type": "stream",
     "text": [
      "(70000, 31904)\n"
     ]
    }
   ],
   "source": [
    "count_vect = CountVectorizer() #in scikit-learn\n",
    "#vector of train data\n",
    "Data = count_vect.fit_transform(X_train_data.values.ravel())\n",
    "Data.get_shape()\n",
    "sc_data= StandardScaler(with_mean=False).fit_transform(Data )\n",
    "final_data= preprocessing.normalize(sc_data)\n",
    "print(final_data.shape)\n",
    "#Normalize Data\n",
    "\n",
    "\n",
    "warnings.filterwarnings(\"ignore\") "
   ]
  },
  {
   "cell_type": "markdown",
   "metadata": {},
   "source": [
    "#### Dumping & Loading Pickle file for training data ( BOW )\n"
   ]
  },
  {
   "cell_type": "code",
   "execution_count": 36,
   "metadata": {},
   "outputs": [],
   "source": [
    "#Pickle file for training data\n",
    "\n",
    "pickle_path_BOW_train='X_train_data_BOW.pkl'\n",
    "X_train_data_BOW=open(pickle_path_BOW_train,'wb')\n",
    "pickle.dump(final_data ,X_train_data_BOW)\n",
    "X_train_data_BOW.close()\n"
   ]
  },
  {
   "cell_type": "code",
   "execution_count": 37,
   "metadata": {},
   "outputs": [],
   "source": [
    "pickle_path_BOW_train='X_train_data_BOW.pkl'\n",
    "unpickle_path1=open(pickle_path_BOW_train,'rb')\n",
    "final_data=pickle.load(unpickle_path1)"
   ]
  },
  {
   "cell_type": "markdown",
   "metadata": {},
   "source": [
    "##### BOW for Testing Data"
   ]
  },
  {
   "cell_type": "code",
   "execution_count": 38,
   "metadata": {},
   "outputs": [
    {
     "name": "stdout",
     "output_type": "stream",
     "text": [
      "(30000, 31904)\n"
     ]
    }
   ],
   "source": [
    "#vector of test data\n",
    "final_data1=count_vect.transform(X_test_data.values.ravel())\n",
    "#print(final_data1)\n",
    "final_data_test1 = StandardScaler(with_mean=False).fit(final_data1)\n",
    "\n",
    "final_data_test11=final_data_test1.transform(final_data1)\n",
    "final_data_test= preprocessing.normalize(final_data_test11)\n",
    "print(final_data_test.shape)"
   ]
  },
  {
   "cell_type": "markdown",
   "metadata": {},
   "source": [
    "#### Dumping & Loading Pickle file for testing data ( BOW) "
   ]
  },
  {
   "cell_type": "code",
   "execution_count": 39,
   "metadata": {},
   "outputs": [],
   "source": [
    "pickle_path_BOW_test='X_test_data_BOW.pkl'\n",
    "X_test_data_BOW=open(pickle_path_BOW_test,'wb')\n",
    "pickle.dump(final_data_test ,X_test_data_BOW)\n",
    "X_test_data_BOW.close()"
   ]
  },
  {
   "cell_type": "code",
   "execution_count": 40,
   "metadata": {},
   "outputs": [],
   "source": [
    "pickle_path_BOW_test='X_test_data_BOW.pkl'\n",
    "unpickle_path2=open(pickle_path_BOW_test,'rb')\n",
    "final_data_test=pickle.load(unpickle_path2)"
   ]
  },
  {
   "cell_type": "markdown",
   "metadata": {},
   "source": [
    " Featured data of Bag of words is Standardization (mean=0 and std.dev=1)."
   ]
  },
  {
   "cell_type": "markdown",
   "metadata": {},
   "source": [
    "### Optimal aplha using BOW"
   ]
  },
  {
   "cell_type": "code",
   "execution_count": 41,
   "metadata": {},
   "outputs": [
    {
     "name": "stdout",
     "output_type": "stream",
     "text": [
      "\n",
      "The best value of alpha is 1.\n"
     ]
    },
    {
     "data": {
      "image/png": "[encoded data removed]",
      "text/plain": [
       "<Figure size 1080x576 with 1 Axes>"
      ]
     },
     "metadata": {},
     "output_type": "display_data"
    },
    {
     "name": "stdout",
     "output_type": "stream",
     "text": [
      "the misclassification error for each alpha value is :  [0.279 0.317 0.328 0.331 0.332 0.333 0.334 0.334 0.334 0.334 0.334 0.334]\n"
     ]
    }
   ],
   "source": [
    "# To get Optimal aplha using BOW\n",
    "\n",
    "My_List1 = list(range(0,25)) \n",
    "\n",
    "alphaNB = alpha_nb(final_data ,Train_data ,My_List1)"
   ]
  },
  {
   "cell_type": "markdown",
   "metadata": {},
   "source": [
    "## Naive Bayes classifier for optimal alpha (BOW)"
   ]
  },
  {
   "cell_type": "code",
   "execution_count": 42,
   "metadata": {},
   "outputs": [
    {
     "name": "stdout",
     "output_type": "stream",
     "text": [
      "CPU times: user 236 ms, sys: 0 ns, total: 236 ms\n",
      "Wall time: 233 ms\n"
     ]
    }
   ],
   "source": [
    "#  Naive Bayes classifier\n",
    "nb1 = MultinomialNB(alpha=best_alpha_value , fit_prior=True)\n",
    "%time nb1.fit(final_data,Train_data)\n",
    "\n",
    "prediction1 = nb1.predict(final_data_test)\n"
   ]
  },
  {
   "cell_type": "code",
   "execution_count": 43,
   "metadata": {},
   "outputs": [
    {
     "name": "stdout",
     "output_type": "stream",
     "text": [
      "training accuracy= 0.8409285714285715\n",
      "training error is = 0.15907142857142853\n"
     ]
    }
   ],
   "source": [
    "#Training accuracy and training error\n",
    "training_score=nb1.score(final_data,Train_data)\n",
    "print('training accuracy=',training_score)\n",
    "training_error=1-training_score\n",
    "print('training error is =',training_error)"
   ]
  },
  {
   "cell_type": "code",
   "execution_count": 44,
   "metadata": {},
   "outputs": [
    {
     "name": "stdout",
     "output_type": "stream",
     "text": [
      "Accuracy for Naive Bayes model with Bag of words is =  0.7335\n",
      "Testing error for Naive Bayes model with Bag of words is =  0.26649999999999996\n"
     ]
    }
   ],
   "source": [
    "# Testing Accuracy and testing error for Naive Bayes model\n",
    "\n",
    "Testing_score=round(accuracy_score(Y_test_data ,prediction1),5)\n",
    "print(\"Accuracy for Naive Bayes model with Bag of words is = \",Testing_score)\n",
    "Testing_error=1-Testing_score\n",
    "print(\"Testing error for Naive Bayes model with Bag of words is = \",Testing_error)"
   ]
  },
  {
   "cell_type": "code",
   "execution_count": 45,
   "metadata": {},
   "outputs": [],
   "source": [
    "F1_score = round(f1_score(Y_test_data ,prediction1,average='macro'),5)*100\n",
    "recall = round(recall_score(Y_test_data,prediction1,average='macro'),5)*100\n",
    "precision = round(precision_score(Y_test_data ,prediction1,average='macro'),5)*100"
   ]
  },
  {
   "cell_type": "code",
   "execution_count": 46,
   "metadata": {},
   "outputs": [
    {
     "name": "stdout",
     "output_type": "stream",
     "text": [
      "             precision    recall  f1-score   support\n",
      "\n",
      "   negative       0.84      0.38      0.52     11445\n",
      "   positive       0.71      0.95      0.82     18555\n",
      "\n",
      "avg / total       0.76      0.73      0.70     30000\n",
      "\n"
     ]
    }
   ],
   "source": [
    "print(classification_report( Y_test_data,prediction1))"
   ]
  },
  {
   "cell_type": "code",
   "execution_count": 47,
   "metadata": {},
   "outputs": [
    {
     "data": {
      "image/png": "[encoded data removed]",
      "text/plain": [
       "<Figure size 432x288 with 2 Axes>"
      ]
     },
     "metadata": {},
     "output_type": "display_data"
    }
   ],
   "source": [
    "cm = confusion_matrix(Y_test_data ,prediction1)\n",
    "label = ['negative', 'positive']\n",
    "df_conf = pd.DataFrame(cm, index = label, columns = label)\n",
    "sns.heatmap(df_conf, annot = True, fmt = \"d\")\n",
    "plt.title(\"Confusiion Matrix\")\n",
    "plt.xlabel(\"Predicted Label\")\n",
    "plt.ylabel(\"True Label\")\n",
    "plt.show()"
   ]
  },
  {
   "cell_type": "code",
   "execution_count": 48,
   "metadata": {},
   "outputs": [],
   "source": [
    "models_performence = {\n",
    "    'Model':['Naive Bayes'],\n",
    "    'Optimal_aplha': [best_alpha_value],\n",
    "    'Vectorizer': ['BoW'],\n",
    "    'Training_error':[training_error*100],\n",
    "    'Test_error':[Testing_error*100], \n",
    "    'Accuracy':[Testing_score],\n",
    "    'F1':[F1_score],\n",
    "    'recall':[recall],\n",
    "    'precision':[precision]\n",
    "    \n",
    "  \n",
    "}"
   ]
  },
  {
   "cell_type": "code",
   "execution_count": 49,
   "metadata": {
    "scrolled": false
   },
   "outputs": [],
   "source": [
    "columns = [\"Model\", \"Vectorizer\",\"Optimal_aplha\", \"Training_error\",  \"Test_error\",\n",
    "           \"Accuracy\",\"F1\",\"recall\",\"precision\",\n",
    "          ]\n",
    "df1=pd.DataFrame(models_performence, columns=columns)"
   ]
  },
  {
   "cell_type": "code",
   "execution_count": 50,
   "metadata": {},
   "outputs": [
    {
     "name": "stdout",
     "output_type": "stream",
     "text": [
      "|   Model   |Vectorizer|Optimal_aplha|Training_error|Test_error|Accuracy| F1  |recall|precision|\n",
      "|-----------|----------|------------:|-------------:|---------:|-------:|----:|-----:|--------:|\n",
      "|Naive Bayes|BoW       |            1|         15.91|     26.65|  0.7335|66.69| 66.49|    77.39|\n",
      "\n"
     ]
    }
   ],
   "source": [
    "result_display(df1)"
   ]
  },
  {
   "cell_type": "markdown",
   "metadata": {},
   "source": [
    "|   Model   |Vectorizer|Optimal_aplha|Training_error|Test_error|Accuracy| F1  |recall|precision|\n",
    "|-----------|----------|------------:|-------------:|---------:|-------:|----:|-----:|--------:|\n",
    "|Naive Bayes|BoW       |            1|         15.91|     26.65|  0.7335|66.69| 66.49|    77.39|\n"
   ]
  },
  {
   "cell_type": "markdown",
   "metadata": {},
   "source": [
    "# Observations\n",
    "* Best value of alpha for naive bayes is 1.\n",
    "* From MSE error graph, Error rate gradually is increased  as alpha increased after that it gradually decresing.  \n",
    "* All metrics value is as shown above.\n",
    "* Accuracy for Naive bayes model with Bag of words is  73.35%\n",
    "* but precision for Naive bayes model with Bag of words is 77.39%. Precision metrics gives high performance of model.\n",
    "* confusion metrix shows that model perfomance well. Model is neither dumb or sensible model.\n",
    "\n",
    "* TPR is high .\n",
    "\n",
    " "
   ]
  },
  {
   "cell_type": "markdown",
   "metadata": {},
   "source": [
    "# 2. TF-IDF\n"
   ]
  },
  {
   "cell_type": "code",
   "execution_count": 51,
   "metadata": {},
   "outputs": [],
   "source": [
    "##### TF-IDF for Training data"
   ]
  },
  {
   "cell_type": "code",
   "execution_count": 52,
   "metadata": {},
   "outputs": [
    {
     "data": {
      "text/plain": [
       "(70000, 996854)"
      ]
     },
     "execution_count": 52,
     "metadata": {},
     "output_type": "execute_result"
    }
   ],
   "source": [
    "\n",
    "tf_idf_vect = TfidfVectorizer(ngram_range=(1,2))\n",
    "final_tf_idf = tf_idf_vect.fit_transform(X_train_data.values.ravel())\n",
    "final_tf_idf.get_shape()"
   ]
  },
  {
   "cell_type": "code",
   "execution_count": 53,
   "metadata": {},
   "outputs": [
    {
     "name": "stdout",
     "output_type": "stream",
     "text": [
      "Train Data:  (70000, 996854)\n"
     ]
    }
   ],
   "source": [
    "sc_data2= StandardScaler(with_mean=False).fit_transform(final_tf_idf)\n",
    "final_tfidf_np= preprocessing.normalize(sc_data2)\n",
    "print(\"Train Data: \",final_tfidf_np.shape)"
   ]
  },
  {
   "cell_type": "code",
   "execution_count": 54,
   "metadata": {},
   "outputs": [
    {
     "data": {
      "text/plain": [
       "996854"
      ]
     },
     "execution_count": 54,
     "metadata": {},
     "output_type": "execute_result"
    }
   ],
   "source": [
    "features = tf_idf_vect.get_feature_names()\n",
    "len(features)"
   ]
  },
  {
   "cell_type": "markdown",
   "metadata": {},
   "source": [
    "#### Dumping & Loading Pickle file for training data (TF-IDF)"
   ]
  },
  {
   "cell_type": "code",
   "execution_count": 55,
   "metadata": {},
   "outputs": [],
   "source": [
    "pickle_path_tfidf_train='X_train_data_tfidf.pkl'\n",
    "X_train_data_tfidf=open(pickle_path_tfidf_train,'wb')\n",
    "pickle.dump(final_tfidf_np ,X_train_data_tfidf)\n",
    "X_train_data_tfidf.close()"
   ]
  },
  {
   "cell_type": "code",
   "execution_count": 56,
   "metadata": {},
   "outputs": [],
   "source": [
    "pickle_path_tfidf_train='X_train_data_tfidf.pkl'\n",
    "unpickle_path5=open(pickle_path_tfidf_train,'rb')\n",
    "final_tfidf_np=pickle.load(unpickle_path5)"
   ]
  },
  {
   "cell_type": "markdown",
   "metadata": {},
   "source": [
    "##### tf-idf For Testing datasets "
   ]
  },
  {
   "cell_type": "code",
   "execution_count": 57,
   "metadata": {},
   "outputs": [
    {
     "data": {
      "text/plain": [
       "(30000, 996854)"
      ]
     },
     "execution_count": 57,
     "metadata": {},
     "output_type": "execute_result"
    }
   ],
   "source": [
    "final_tf_idf_test1 = tf_idf_vect.transform(X_test_data.values.ravel())\n",
    "final_tf_idf_test1.get_shape()"
   ]
  },
  {
   "cell_type": "code",
   "execution_count": 58,
   "metadata": {},
   "outputs": [
    {
     "name": "stdout",
     "output_type": "stream",
     "text": [
      "StandardScaler(copy=True, with_mean=False, with_std=True)\n",
      "Test Data:  (30000, 996854)\n"
     ]
    }
   ],
   "source": [
    "final_tf_idf_test1_f=StandardScaler(with_mean=False).fit(final_tf_idf_test1 )\n",
    "print(final_tf_idf_test1_f)\n",
    "\n",
    "final_tf_idf_test11=final_tf_idf_test1_f.transform(final_tf_idf_test1 )\n",
    "#Normalize Data\n",
    "final_tfidf_np_test= preprocessing.normalize(final_tf_idf_test11)\n",
    "print(\"Test Data: \",final_tfidf_np_test.shape)\n"
   ]
  },
  {
   "cell_type": "markdown",
   "metadata": {},
   "source": [
    "#### Dumping & Loading Pickle file for testing data(TF-IDF)"
   ]
  },
  {
   "cell_type": "code",
   "execution_count": 59,
   "metadata": {},
   "outputs": [],
   "source": [
    "\n",
    "pickle_path_tfidf_test='X_test_data_tfidf.pkl'\n",
    "X_test_data_tfidf=open(pickle_path_tfidf_test,'wb')\n",
    "pickle.dump(final_tfidf_np_test ,X_test_data_tfidf)\n",
    "X_test_data_tfidf.close()"
   ]
  },
  {
   "cell_type": "code",
   "execution_count": 60,
   "metadata": {},
   "outputs": [],
   "source": [
    "pickle_path_tfidf_test='X_test_data_tfidf.pkl'\n",
    "unpickle_path6=open(pickle_path_tfidf_test,'rb')\n",
    "final_tfidf_np_test=pickle.load(unpickle_path6)"
   ]
  },
  {
   "cell_type": "code",
   "execution_count": 61,
   "metadata": {},
   "outputs": [
    {
     "name": "stdout",
     "output_type": "stream",
     "text": [
      "\n",
      "The best value of alpha is 1.\n"
     ]
    },
    {
     "data": {
      "image/png": "[encoded data removed]",
      "text/plain": [
       "<Figure size 1080x576 with 1 Axes>"
      ]
     },
     "metadata": {},
     "output_type": "display_data"
    },
    {
     "name": "stdout",
     "output_type": "stream",
     "text": [
      "the misclassification error for each alpha value is :  [0.333 0.334 0.334 0.334 0.334 0.334 0.334 0.334 0.334 0.334 0.334 0.334]\n"
     ]
    }
   ],
   "source": [
    "My_List3 = list(range(0,25))\n",
    "\n",
    "alphaNB = alpha_nb(final_tfidf_np ,Train_data,My_List3)"
   ]
  },
  {
   "cell_type": "markdown",
   "metadata": {},
   "source": [
    "## Naive Bayes classifier for optimal alpha (TF-IDF)"
   ]
  },
  {
   "cell_type": "code",
   "execution_count": 62,
   "metadata": {},
   "outputs": [
    {
     "name": "stdout",
     "output_type": "stream",
     "text": [
      "CPU times: user 320 ms, sys: 16 ms, total: 336 ms\n",
      "Wall time: 333 ms\n"
     ]
    }
   ],
   "source": [
    "nb3 = MultinomialNB(alpha=best_alpha_value , fit_prior=True)\n",
    "%time nb3.fit(final_tfidf_np ,Train_data)\n",
    "\n",
    "prediction3 = nb3.predict(final_tfidf_np_test)\n",
    "\n",
    "\n"
   ]
  },
  {
   "cell_type": "code",
   "execution_count": 63,
   "metadata": {},
   "outputs": [
    {
     "name": "stdout",
     "output_type": "stream",
     "text": [
      "training accuracy= 0.9673\n",
      "training error is = 0.03269999999999995\n"
     ]
    }
   ],
   "source": [
    "#Training accuracy and training error\n",
    "training_score=nb3.score(final_tfidf_np,Train_data)\n",
    "print('training accuracy=',training_score)\n",
    "training_error=1-training_score\n",
    "print('training error is =',training_error)"
   ]
  },
  {
   "cell_type": "code",
   "execution_count": 64,
   "metadata": {},
   "outputs": [
    {
     "name": "stdout",
     "output_type": "stream",
     "text": [
      "Accuracy for Naive Bayes model with TF-IDF is =  0.64147\n",
      "Testing error for Naive Bayes  model with TF-IDF is =  0.35853\n"
     ]
    }
   ],
   "source": [
    "# Testing Accuracy and testing error for Naive Bayes model\n",
    "\n",
    "Testing_score=round(accuracy_score(Y_test_data ,prediction3),5)\n",
    "print(\"Accuracy for Naive Bayes model with TF-IDF is = \",Testing_score)\n",
    "Testing_error=1-Testing_score\n",
    "print(\"Testing error for Naive Bayes  model with TF-IDF is = \",Testing_error)"
   ]
  },
  {
   "cell_type": "code",
   "execution_count": 65,
   "metadata": {},
   "outputs": [],
   "source": [
    "F1_score = round(f1_score(Y_test_data ,prediction3,average='macro'),5)*100\n",
    "recall = round(recall_score(Y_test_data,prediction3,average='macro'),5)*100\n",
    "precision = round(precision_score(Y_test_data ,prediction3,average='macro'),5)*100"
   ]
  },
  {
   "cell_type": "code",
   "execution_count": 66,
   "metadata": {},
   "outputs": [
    {
     "name": "stdout",
     "output_type": "stream",
     "text": [
      "             precision    recall  f1-score   support\n",
      "\n",
      "   negative       0.99      0.06      0.12     11445\n",
      "   positive       0.63      1.00      0.78     18555\n",
      "\n",
      "avg / total       0.77      0.64      0.52     30000\n",
      "\n"
     ]
    }
   ],
   "source": [
    "print(classification_report( Y_test_data,prediction3))"
   ]
  },
  {
   "cell_type": "code",
   "execution_count": 67,
   "metadata": {},
   "outputs": [
    {
     "data": {
      "image/png": "[encoded data removed]",
      "text/plain": [
       "<Figure size 432x288 with 2 Axes>"
      ]
     },
     "metadata": {},
     "output_type": "display_data"
    }
   ],
   "source": [
    "cm = confusion_matrix(Y_test_data ,prediction3)\n",
    "label = ['negative', 'positive']\n",
    "df_conf = pd.DataFrame(cm, index = label, columns = label)\n",
    "sns.heatmap(df_conf, annot = True, fmt = \"d\")\n",
    "plt.title(\"Confusiion Matrix\")\n",
    "plt.xlabel(\"Predicted Label\")\n",
    "plt.ylabel(\"True Label\")\n",
    "plt.show()"
   ]
  },
  {
   "cell_type": "code",
   "execution_count": 68,
   "metadata": {},
   "outputs": [],
   "source": [
    "models_performence['Model'].append('Naive Bayes')\n",
    "models_performence['Vectorizer'].append('TF-IDF')\n",
    "models_performence[ 'Optimal_aplha'].append(best_alpha_value)\n",
    "models_performence['Training_error'].append(training_error*100)\n",
    "models_performence[ 'Test_error'].append(Testing_error*100)\n",
    "models_performence[ 'Accuracy'].append(Testing_score)\n",
    "models_performence[ 'F1'].append(F1_score)\n",
    "models_performence['recall'].append(recall)\n",
    "models_performence[ 'precision'].append(precision)\n"
   ]
  },
  {
   "cell_type": "code",
   "execution_count": 69,
   "metadata": {
    "scrolled": false
   },
   "outputs": [],
   "source": [
    "columns = [\"Model\", \"Vectorizer\",\"Optimal_aplha\", \"Training_error\",  \"Test_error\",\n",
    "           \"Accuracy\",\"F1\",\"recall\",\"precision\",\n",
    "          ]\n",
    "df2=pd.DataFrame(models_performence, columns=columns)"
   ]
  },
  {
   "cell_type": "code",
   "execution_count": 70,
   "metadata": {},
   "outputs": [
    {
     "name": "stdout",
     "output_type": "stream",
     "text": [
      "|   Model   |Vectorizer|Optimal_aplha|Training_error|Test_error|Accuracy| F1  |recall|precision|\n",
      "|-----------|----------|------------:|-------------:|---------:|-------:|----:|-----:|--------:|\n",
      "|Naive Bayes|BoW       |            1|        15.907|     26.65|  0.7335|66.69| 66.49|    77.39|\n",
      "|Naive Bayes|TF-IDF    |            1|         3.270|     35.85|  0.6415|44.51| 53.03|    80.95|\n",
      "\n"
     ]
    }
   ],
   "source": [
    "result_display(df2)"
   ]
  },
  {
   "cell_type": "markdown",
   "metadata": {},
   "source": [
    "|   Model   |Vectorizer|Optimal_aplha|Training_error|Test_error|Accuracy| F1  |recall|precision|\n",
    "|-----------|----------|------------:|-------------:|---------:|-------:|----:|-----:|--------:|\n",
    "|Naive Bayes|BoW       |            1|        15.907|     26.65|  0.7335|66.69| 66.49|    77.39|\n",
    "|Naive Bayes|TF-IDF    |            1|         3.270|     35.85|  0.6415|44.51| 53.03|    80.95|"
   ]
  },
  {
   "cell_type": "markdown",
   "metadata": {},
   "source": [
    "#### Observations \n",
    "* The best value of alpha for naive bayes model using tf-idf is 1\n",
    "* MSE = 3.270 @ alpha =1. \n",
    "* When alpha increased from value=1 , error rate is gradually increased and then error rate is constant\n",
    "* precision for Naive bayes model with TF-IDF is  80.95 and Accuracy for Naive bayes model with TF-IDF is  64.45% . Model performs well for scoring metrics \"precision\"\n",
    "* confusion matrix is shown above.TPR and FNR is high as compared to FPR,TNR.\n",
    "* TPR and FNR (true postive rate and false negative rate) is almost similar.\n",
    "* false negative rate is high .It means it is predicting  postive words as a negative words.\n"
   ]
  },
  {
   "cell_type": "markdown",
   "metadata": {},
   "source": [
    "## Feature Importance in Naive Bayes"
   ]
  },
  {
   "cell_type": "markdown",
   "metadata": {},
   "source": [
    "#### Feature importance using count_vect"
   ]
  },
  {
   "cell_type": "code",
   "execution_count": 71,
   "metadata": {},
   "outputs": [
    {
     "name": "stdout",
     "output_type": "stream",
     "text": [
      "[-10.90135043 -11.56576329 -11.56576329 ... -11.56576329 -11.56576329\n",
      " -10.87742632]\n",
      "[-12.09553814 -11.4764334  -11.43187564 ... -11.83734787 -11.41230917\n",
      " -12.09553814]\n"
     ]
    }
   ],
   "source": [
    "#### Feature importance using count_vect\n",
    "neg_class_FI1 = nb1.feature_log_prob_[0, :]\n",
    "\n",
    "print(neg_class_FI1)\n",
    "pos_class_FI1 = nb1.feature_log_prob_[1, :]\n",
    "print(pos_class_FI1)\n"
   ]
  },
  {
   "cell_type": "code",
   "execution_count": 72,
   "metadata": {},
   "outputs": [
    {
     "name": "stdout",
     "output_type": "stream",
     "text": [
      "Top 10 negative class feature poe          -11.565763\n",
      "expedi       -11.565763\n",
      "repolac      -11.565763\n",
      "reposado     -11.565763\n",
      "expen        -11.565763\n",
      "expenditur   -11.565763\n",
      "expenis      -11.565763\n",
      "expenisv     -11.565763\n",
      "expensvi     -11.565763\n",
      "superfici    -11.565763\n",
      "dtype: float64\n"
     ]
    },
    {
     "data": {
      "text/plain": [
       "Text(0,0.5,'log probability for Negative class ')"
      ]
     },
     "execution_count": 72,
     "metadata": {},
     "output_type": "execute_result"
    },
    {
     "data": {
      "image/png": "[encoded data removed]",
      "text/plain": [
       "<Figure size 432x288 with 1 Axes>"
      ]
     },
     "metadata": {},
     "output_type": "display_data"
    }
   ],
   "source": [
    "#Feature Importances for negative class\n",
    "count_features=count_vect.get_feature_names()\n",
    "feat_imp = pd.Series(neg_class_FI1, count_features).sort_values(ascending=False)\n",
    "print(\"Top 10 negative class feature\",feat_imp[:-(10 + 1):-1])\n",
    "\n",
    "feat_imp[:-(10 + 1):-1].plot(kind='bar', title='Feature Importances')\n",
    "plt.ylabel('log probability for Negative class ')\n"
   ]
  },
  {
   "cell_type": "code",
   "execution_count": 73,
   "metadata": {},
   "outputs": [
    {
     "name": "stdout",
     "output_type": "stream",
     "text": [
      "Top 10 postive class feature great    -5.792588\n",
      "love     -5.893321\n",
      "good     -6.002175\n",
      "tast     -6.210854\n",
      "best     -6.259056\n",
      "like     -6.283491\n",
      "flavor   -6.350837\n",
      "price    -6.414177\n",
      "buy      -6.464493\n",
      "find     -6.468976\n",
      "dtype: float64\n"
     ]
    },
    {
     "data": {
      "text/plain": [
       "Text(0,0.5,'log probability for Positive class ')"
      ]
     },
     "execution_count": 73,
     "metadata": {},
     "output_type": "execute_result"
    },
    {
     "data": {
      "image/png": "[encoded data removed]",
      "text/plain": [
       "<Figure size 432x288 with 1 Axes>"
      ]
     },
     "metadata": {},
     "output_type": "display_data"
    }
   ],
   "source": [
    "#Feature Importances for postive class using count_vect\n",
    "count_features=count_vect.get_feature_names()\n",
    "feat_imp = pd.Series(pos_class_FI1, count_features).sort_values(ascending=False)\n",
    "print(\"Top 10 postive class feature\",feat_imp[:10])\n",
    "\n",
    "feat_imp[:10].plot(kind='bar', title='Feature Importances')\n",
    "plt.ylabel('log probability for Positive class ')\n"
   ]
  },
  {
   "cell_type": "markdown",
   "metadata": {},
   "source": [
    "#### Feature importance using tf-idf -vect"
   ]
  },
  {
   "cell_type": "code",
   "execution_count": 74,
   "metadata": {},
   "outputs": [
    {
     "name": "stdout",
     "output_type": "stream",
     "text": [
      "[-13.72689799 -13.72689799 -13.92294808 ... -13.92294808 -13.64473217\n",
      " -13.64473217]\n",
      "[-14.01687757 -14.01687757 -13.78105699 ... -13.79513024 -14.01687757\n",
      " -14.01687757]\n"
     ]
    }
   ],
   "source": [
    "#### Feature importance using tf-idf -vect\n",
    "neg_class_FI3 = nb3.feature_log_prob_[0, :] # Class 0\n",
    "print(neg_class_FI3)\n",
    "\n",
    "pos_class_FI3 = nb3.feature_log_prob_[1, :]# class 1\n",
    "print(pos_class_FI3)\n",
    "\n"
   ]
  },
  {
   "cell_type": "code",
   "execution_count": 75,
   "metadata": {},
   "outputs": [
    {
     "name": "stdout",
     "output_type": "stream",
     "text": [
      "Top 10 negative class feature linol fatti        -13.922948\n",
      "kind exact         -13.922948\n",
      "kind excel         -13.922948\n",
      "tahini primarili   -13.922948\n",
      "kind expresso      -13.922948\n",
      "tahini noth        -13.922948\n",
      "kind extrud        -13.922948\n",
      "tahini make        -13.922948\n",
      "tahini liquid      -13.922948\n",
      "tahini lime        -13.922948\n",
      "dtype: float64\n"
     ]
    },
    {
     "data": {
      "text/plain": [
       "Text(0,0.5,'log probability for Negative class ')"
      ]
     },
     "execution_count": 75,
     "metadata": {},
     "output_type": "execute_result"
    },
    {
     "data": {
      "image/png": "[encoded data removed]",
      "text/plain": [
       "<Figure size 432x288 with 1 Axes>"
      ]
     },
     "metadata": {},
     "output_type": "display_data"
    }
   ],
   "source": [
    "#Feature Importances\n",
    "tfidf_features=tf_idf_vect .get_feature_names()\n",
    "feat_imp = pd.Series(neg_class_FI3 , tfidf_features).sort_values(ascending=False)\n",
    "print(\"Top 10 negative class feature\",feat_imp[-10:])\n",
    "\n",
    "feat_imp[-10:].plot(kind='bar', title='Feature Importances')\n",
    "plt.ylabel('log probability for Negative class ')\n"
   ]
  },
  {
   "cell_type": "code",
   "execution_count": 76,
   "metadata": {},
   "outputs": [
    {
     "name": "stdout",
     "output_type": "stream",
     "text": [
      "Top 10 negative class feature great     -10.256840\n",
      "love      -10.293066\n",
      "good      -10.345897\n",
      "tast      -10.459355\n",
      "like      -10.499123\n",
      "flavor    -10.563169\n",
      "best      -10.633156\n",
      "product   -10.644347\n",
      "use       -10.656839\n",
      "one       -10.687674\n",
      "dtype: float64\n"
     ]
    },
    {
     "data": {
      "text/plain": [
       "Text(0,0.5,'log probability for Negative class ')"
      ]
     },
     "execution_count": 76,
     "metadata": {},
     "output_type": "execute_result"
    },
    {
     "data": {
      "image/png": "[encoded data removed]",
      "text/plain": [
       "<Figure size 432x288 with 1 Axes>"
      ]
     },
     "metadata": {},
     "output_type": "display_data"
    }
   ],
   "source": [
    "feat_imp = pd.Series(pos_class_FI3  , tfidf_features).sort_values(ascending=False)\n",
    "print(\"Top 10 negative class feature\",feat_imp[:10])\n",
    "\n",
    "feat_imp[:10].plot(kind='bar', title='Feature Importances')\n",
    "plt.ylabel('log probability for Negative class ')\n"
   ]
  },
  {
   "cell_type": "markdown",
   "metadata": {},
   "source": [
    "#### Observations\n",
    "* Feature importance for Naive bayes is importance words/features in determing that words belongs to positive class or negative class.\n",
    "* Top 15 Important postive words that belongs to postive class and top 15 negative words that belongs to negative class with highest probabiltyis shown above.\n"
   ]
  },
  {
   "cell_type": "markdown",
   "metadata": {},
   "source": [
    "# Conclusions"
   ]
  },
  {
   "cell_type": "markdown",
   "metadata": {},
   "source": [
    "|   Model   |Vectorizer|Optimal_aplha|Training_error|Test_error|Accuracy| F1  |recall|precision|\n",
    "|-----------|----------|------------:|-------------:|---------:|-------:|----:|-----:|--------:|\n",
    "|Naive Bayes|BoW       |            1|        15.907|     26.65|  0.7335|66.69| 66.49|    77.39|\n",
    "|Naive Bayes|TF-IDF    |            1|         3.270|     35.85|  0.6415|44.51| 53.03|    80.95|\n"
   ]
  },
  {
   "cell_type": "markdown",
   "metadata": {},
   "source": [
    "\n",
    "* Confusion matrix for BOW is best comapratively with confudion matrix for TF_IDF.\n",
    "* TPR and TNR for bow is high while FPR & FNR is almost similar.\n",
    "* TPR & TNR is good in TF_IDF but FPR & TNR is almost similar which is not good foramazon reviews case.\n",
    "* MSE Graph for BOW gradually decresing and then remains constant whlie in TF-IDF MSE graph is gradually increasing and then remains high & constant.\n",
    "* Above table describes the performance of Naive bayes.\n",
    "* As seen in conclusion table,naive Bayes using Tf-IDF Vectorizer [accuracy,F1 , recall and precision ] values is comparatively good  with naive Bayes using BOW.But NB model leads to overfitiing.\n",
    "* AS Training error is small and Testing error is comparatively high in Tf-Idf NB model, model is overfitting.\n",
    "* After  comparing the  all  developed models, Naive Bayes model with Bag of words is the best to predict the polarity of reviews among all models. \n",
    "\n"
   ]
  },
  {
   "cell_type": "code",
   "execution_count": null,
   "metadata": {},
   "outputs": [],
   "source": []
  },
  {
   "cell_type": "code",
   "execution_count": null,
   "metadata": {},
   "outputs": [],
   "source": []
  }
 ],
 "metadata": {
  "kernelspec": {
   "display_name": "Python 3",
   "language": "python",
   "name": "python3"
  },
  "language_info": {
   "codemirror_mode": {
    "name": "ipython",
    "version": 3
   },
   "file_extension": ".py",
   "mimetype": "text/x-python",
   "name": "python",
   "nbconvert_exporter": "python",
   "pygments_lexer": "ipython3",
   "version": "3.6.5"
  }
 },
 "nbformat": 4,
 "nbformat_minor": 2
}
